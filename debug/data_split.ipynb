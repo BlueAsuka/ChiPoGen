{
 "cells": [
  {
   "cell_type": "code",
   "execution_count": 1,
   "metadata": {},
   "outputs": [],
   "source": [
    "import torch\n",
    "import torch.nn as nn\n",
    "import torch.nn.functional as F"
   ]
  },
  {
   "cell_type": "code",
   "execution_count": 2,
   "metadata": {},
   "outputs": [
    {
     "name": "stdout",
     "output_type": "stream",
     "text": [
      "tensor([ 144504, 2634553, 1438059,   42791, 2683132, 1121262, 2164986,  129755,\n",
      "             43,       0, 1234929, 1771920,  847118,   32483, 2683132,  839028,\n",
      "        2154336,  147779,  135807,      43,       0,       0,  858221, 1187506,\n",
      "        2196388, 2683132, 1396126,  436519,  460930,  593947,      43,       0,\n",
      "        2012656, 2258991, 1989284, 1444398,   74895, 2683132,   10219, 1847478,\n",
      "        1407708, 2615522,      43,       0,       0, 1961772, 1074905, 2683132,\n",
      "        1232410, 2106339,      43,       0, 2554029,  447136,  771290, 2683132,\n",
      "        1770140, 2144491,  428218,      43,       0, 2419768,  291543, 2609668,\n",
      "        2683132, 2156004, 2440345,  384193,      43,       0,  227733,  324920,\n",
      "        1810785, 2683132, 1219057,  981091, 1318733,      43,       0,       0,\n",
      "        1826644, 2163376, 2316822, 2683132,  854965, 2680277,      43,       0,\n",
      "         805669,  938611, 1486397, 2683132,  622205, 1178248,  756258, 2189270,\n",
      "             43,       0,  915352,  646232])\n"
     ]
    }
   ],
   "source": [
    "data = torch.load('../data/poetry_tokens_tensor.pt')\n",
    "print(data[:100])"
   ]
  },
  {
   "cell_type": "code",
   "execution_count": 3,
   "metadata": {},
   "outputs": [],
   "source": [
    "n = len(data) # The length of the whole dataset\n",
    "train_val_ratio = 0.9\n",
    "train_data = data[:int(train_val_ratio * n)]\n",
    "val_data = data[int(train_val_ratio * n):]"
   ]
  },
  {
   "cell_type": "code",
   "execution_count": 4,
   "metadata": {},
   "outputs": [
    {
     "name": "stdout",
     "output_type": "stream",
     "text": [
      "Train data size: 42254801\n",
      "Val data size : 4694978\n"
     ]
    }
   ],
   "source": [
    "print(f'Train data size: {len(train_data)}')\n",
    "print(f'Val data size : {len(val_data)}')"
   ]
  },
  {
   "cell_type": "code",
   "execution_count": 5,
   "metadata": {},
   "outputs": [],
   "source": [
    "# export to bin files\n",
    "import numpy as np\n",
    "import os\n",
    "\n",
    "train_ids = np.array(train_data, dtype=np.uint16)\n",
    "val_ids = np.array(val_data, dtype=np.uint16)"
   ]
  },
  {
   "cell_type": "code",
   "execution_count": 6,
   "metadata": {},
   "outputs": [],
   "source": [
    "train_ids.tofile('../data/train.bin')\n",
    "val_ids.tofile('../data/val.bin')"
   ]
  }
 ],
 "metadata": {
  "kernelspec": {
   "display_name": "torch",
   "language": "python",
   "name": "python3"
  },
  "language_info": {
   "codemirror_mode": {
    "name": "ipython",
    "version": 3
   },
   "file_extension": ".py",
   "mimetype": "text/x-python",
   "name": "python",
   "nbconvert_exporter": "python",
   "pygments_lexer": "ipython3",
   "version": "3.10.11"
  },
  "orig_nbformat": 4
 },
 "nbformat": 4,
 "nbformat_minor": 2
}
