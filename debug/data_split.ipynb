{
 "cells": [
  {
   "cell_type": "code",
   "execution_count": 1,
   "metadata": {},
   "outputs": [],
   "source": [
    "import torch\n",
    "import torch.nn as nn\n",
    "import torch.nn.functional as F"
   ]
  },
  {
   "cell_type": "code",
   "execution_count": 2,
   "metadata": {},
   "outputs": [
    {
     "name": "stdout",
     "output_type": "stream",
     "text": [
      "tensor([ 1346, 12293, 12276,  5304, 12309,  1267,  1867, 12953,  4338, 11691,\n",
      "         9649,  3245,  1341,  1750,  2181,    44,     0,  4822,  8254,  7298,\n",
      "         8423,  3350, 12016,  1264, 12953,  3337,  7114,  9470,  9285,  1348,\n",
      "         9048,  1346,    44,     0,     0,  3370,  9048,  4648,  1755,  1766,\n",
      "        10005,  1831, 12953,  5106, 11659,  2033,  1262,  2067,  2605,  3751,\n",
      "           44,     0,  8675,  1706, 10392,  8573,  5403,  1286,  2267, 12953,\n",
      "         1257,  5681,  7762, 12016,  5161,  3189, 12113,    44,     0,     0,\n",
      "         8446,  5024,  4132, 11612, 11759, 12953,  4822,  3696,  9141,  3908,\n",
      "         2181,    44,     0, 11826,  2041,  1299,  3243,  1308, 12953,  7298,\n",
      "         2128,  9381,  1330,  1987,    44,     0, 11167,  1773, 11079,  1706])\n"
     ]
    }
   ],
   "source": [
    "data = torch.load('../data/poetry_tokens_tensor.pt')\n",
    "print(data[:100])"
   ]
  },
  {
   "cell_type": "code",
   "execution_count": 3,
   "metadata": {},
   "outputs": [],
   "source": [
    "n = len(data) # The length of the whole dataset\n",
    "train_val_ratio = 0.9\n",
    "train_data = data[:int(train_val_ratio * n)]\n",
    "val_data = data[int(train_val_ratio * n):]"
   ]
  },
  {
   "cell_type": "code",
   "execution_count": 4,
   "metadata": {},
   "outputs": [
    {
     "name": "stdout",
     "output_type": "stream",
     "text": [
      "Train data size: 63568168\n",
      "Val data size : 7063130\n"
     ]
    }
   ],
   "source": [
    "print(f'Train data size: {len(train_data)}')\n",
    "print(f'Val data size : {len(val_data)}')"
   ]
  },
  {
   "cell_type": "code",
   "execution_count": 5,
   "metadata": {},
   "outputs": [],
   "source": [
    "# export to bin files\n",
    "import numpy as np\n",
    "import os\n",
    "\n",
    "train_ids = np.array(train_data, dtype=np.uint16)\n",
    "val_ids = np.array(val_data, dtype=np.uint16)"
   ]
  },
  {
   "cell_type": "code",
   "execution_count": 6,
   "metadata": {},
   "outputs": [],
   "source": [
    "train_ids.tofile('../data/train.bin')\n",
    "val_ids.tofile('../data/val.bin')"
   ]
  },
  {
   "cell_type": "code",
   "execution_count": null,
   "metadata": {},
   "outputs": [],
   "source": []
  }
 ],
 "metadata": {
  "kernelspec": {
   "display_name": "torch",
   "language": "python",
   "name": "python3"
  },
  "language_info": {
   "codemirror_mode": {
    "name": "ipython",
    "version": 3
   },
   "file_extension": ".py",
   "mimetype": "text/x-python",
   "name": "python",
   "nbconvert_exporter": "python",
   "pygments_lexer": "ipython3",
   "version": "3.10.11"
  },
  "orig_nbformat": 4
 },
 "nbformat": 4,
 "nbformat_minor": 2
}
