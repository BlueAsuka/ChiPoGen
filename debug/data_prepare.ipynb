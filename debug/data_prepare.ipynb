{
 "cells": [
  {
   "cell_type": "code",
   "execution_count": 2,
   "metadata": {},
   "outputs": [],
   "source": [
    "import pandas as pd"
   ]
  },
  {
   "cell_type": "code",
   "execution_count": 52,
   "metadata": {},
   "outputs": [],
   "source": [
    "poetry_df = pd.read_csv('../data/Poetry/poetry.csv',\n",
    "                        names=['title', 'dynasty', 'author', 'content'])"
   ]
  },
  {
   "cell_type": "code",
   "execution_count": 53,
   "metadata": {},
   "outputs": [
    {
     "data": {
      "text/html": [
       "<div>\n",
       "<style scoped>\n",
       "    .dataframe tbody tr th:only-of-type {\n",
       "        vertical-align: middle;\n",
       "    }\n",
       "\n",
       "    .dataframe tbody tr th {\n",
       "        vertical-align: top;\n",
       "    }\n",
       "\n",
       "    .dataframe thead th {\n",
       "        text-align: right;\n",
       "    }\n",
       "</style>\n",
       "<table border=\"1\" class=\"dataframe\">\n",
       "  <thead>\n",
       "    <tr style=\"text-align: right;\">\n",
       "      <th></th>\n",
       "      <th>title</th>\n",
       "      <th>dynasty</th>\n",
       "      <th>author</th>\n",
       "      <th>content</th>\n",
       "    </tr>\n",
       "  </thead>\n",
       "  <tbody>\n",
       "    <tr>\n",
       "      <th>0</th>\n",
       "      <td>赠歌者杜氏入道三首 其三</td>\n",
       "      <td>元</td>\n",
       "      <td>潘纯</td>\n",
       "      <td>云髻高梳鬓不分，扫除虚室事元君。新糊白纸屏风上，尽画蓬莱五色云。</td>\n",
       "    </tr>\n",
       "    <tr>\n",
       "      <th>1</th>\n",
       "      <td>七岁游法兴寺</td>\n",
       "      <td>元</td>\n",
       "      <td>胡天游</td>\n",
       "      <td>山色摇光入袖凉，松阴十丈印回廊。老僧读罢楞严咒，一殿神风柏子香。</td>\n",
       "    </tr>\n",
       "    <tr>\n",
       "      <th>2</th>\n",
       "      <td>新岁忆曾子白</td>\n",
       "      <td>元</td>\n",
       "      <td>陈高</td>\n",
       "      <td>经月愁闻雨，新年苦忆君。青华为客久，白发著书勤。酒共邻僧饮，蔬从野老分。何时共登眺，整屐待晴云。</td>\n",
       "    </tr>\n",
       "    <tr>\n",
       "      <th>3</th>\n",
       "      <td>城西虎跑寺</td>\n",
       "      <td>元</td>\n",
       "      <td>陈高</td>\n",
       "      <td>石势虎蹲伏，山形龙屈盘。寺开唐殿阁，坟掩宋衣冠。幽涧泉声细，斜阳塔影寒。近城多战鼓，栖息此中安。</td>\n",
       "    </tr>\n",
       "    <tr>\n",
       "      <th>4</th>\n",
       "      <td>赠章以元昆仲</td>\n",
       "      <td>元</td>\n",
       "      <td>陈高</td>\n",
       "      <td>相见谈经史，江楼坐夜阑。风声吹屋响，灯影照人寒。俗薄交游尽，时危出处难。衰年逢二妙，亦得闷怀宽。</td>\n",
       "    </tr>\n",
       "    <tr>\n",
       "      <th>...</th>\n",
       "      <td>...</td>\n",
       "      <td>...</td>\n",
       "      <td>...</td>\n",
       "      <td>...</td>\n",
       "    </tr>\n",
       "    <tr>\n",
       "      <th>853380</th>\n",
       "      <td>在怀县作诗二首</td>\n",
       "      <td>魏晋</td>\n",
       "      <td>潘岳</td>\n",
       "      <td>南陆迎修景，朱明送末垂。初伏启新节，隆暑方赫羲。朝想庆云兴，夕迟白日移。挥汗辞中宇，登城临清...</td>\n",
       "    </tr>\n",
       "    <tr>\n",
       "      <th>853381</th>\n",
       "      <td>内顾诗二首</td>\n",
       "      <td>魏晋</td>\n",
       "      <td>潘岳</td>\n",
       "      <td>静居怀所欢，登城望四泽。春草郁青青，桑柘何奕奕。芳林振朱荣，渌水激素石。初征冰未泮，忽焉振絺...</td>\n",
       "    </tr>\n",
       "    <tr>\n",
       "      <th>853382</th>\n",
       "      <td>悼亡诗三首</td>\n",
       "      <td>魏晋</td>\n",
       "      <td>潘岳</td>\n",
       "      <td>荏苒冬春谢，寒暑忽流易。之子归穷泉，重壤永幽隔。私怀谁克从，淹留亦何益。黾勉恭朝命，回心反初...</td>\n",
       "    </tr>\n",
       "    <tr>\n",
       "      <th>853383</th>\n",
       "      <td>诗 其二</td>\n",
       "      <td>魏晋</td>\n",
       "      <td>潘岳</td>\n",
       "      <td>柳条恒着地，弱柳荫修衢。依水类浮萍，倚松如悬萝。</td>\n",
       "    </tr>\n",
       "    <tr>\n",
       "      <th>853384</th>\n",
       "      <td>璇玑图诗</td>\n",
       "      <td>魏晋末南北朝初</td>\n",
       "      <td>苏蕙</td>\n",
       "      <td>琴清流楚激弦商秦曲发声悲摧藏音和咏思惟空堂心忧增慕怀惨伤仁。芳廊东步阶西游王姿淑窈窕伯邵南周...</td>\n",
       "    </tr>\n",
       "  </tbody>\n",
       "</table>\n",
       "<p>853385 rows × 4 columns</p>\n",
       "</div>"
      ],
      "text/plain": [
       "               title  dynasty author  \\\n",
       "0       赠歌者杜氏入道三首 其三        元     潘纯   \n",
       "1             七岁游法兴寺        元    胡天游   \n",
       "2             新岁忆曾子白        元     陈高   \n",
       "3              城西虎跑寺        元     陈高   \n",
       "4             赠章以元昆仲        元     陈高   \n",
       "...              ...      ...    ...   \n",
       "853380       在怀县作诗二首       魏晋     潘岳   \n",
       "853381         内顾诗二首       魏晋     潘岳   \n",
       "853382         悼亡诗三首       魏晋     潘岳   \n",
       "853383          诗 其二       魏晋     潘岳   \n",
       "853384          璇玑图诗  魏晋末南北朝初     苏蕙   \n",
       "\n",
       "                                                  content  \n",
       "0                        云髻高梳鬓不分，扫除虚室事元君。新糊白纸屏风上，尽画蓬莱五色云。  \n",
       "1                        山色摇光入袖凉，松阴十丈印回廊。老僧读罢楞严咒，一殿神风柏子香。  \n",
       "2        经月愁闻雨，新年苦忆君。青华为客久，白发著书勤。酒共邻僧饮，蔬从野老分。何时共登眺，整屐待晴云。  \n",
       "3        石势虎蹲伏，山形龙屈盘。寺开唐殿阁，坟掩宋衣冠。幽涧泉声细，斜阳塔影寒。近城多战鼓，栖息此中安。  \n",
       "4        相见谈经史，江楼坐夜阑。风声吹屋响，灯影照人寒。俗薄交游尽，时危出处难。衰年逢二妙，亦得闷怀宽。  \n",
       "...                                                   ...  \n",
       "853380  南陆迎修景，朱明送末垂。初伏启新节，隆暑方赫羲。朝想庆云兴，夕迟白日移。挥汗辞中宇，登城临清...  \n",
       "853381  静居怀所欢，登城望四泽。春草郁青青，桑柘何奕奕。芳林振朱荣，渌水激素石。初征冰未泮，忽焉振絺...  \n",
       "853382  荏苒冬春谢，寒暑忽流易。之子归穷泉，重壤永幽隔。私怀谁克从，淹留亦何益。黾勉恭朝命，回心反初...  \n",
       "853383                           柳条恒着地，弱柳荫修衢。依水类浮萍，倚松如悬萝。  \n",
       "853384  琴清流楚激弦商秦曲发声悲摧藏音和咏思惟空堂心忧增慕怀惨伤仁。芳廊东步阶西游王姿淑窈窕伯邵南周...  \n",
       "\n",
       "[853385 rows x 4 columns]"
      ]
     },
     "execution_count": 53,
     "metadata": {},
     "output_type": "execute_result"
    }
   ],
   "source": [
    "poetry_df"
   ]
  },
  {
   "cell_type": "code",
   "execution_count": 55,
   "metadata": {},
   "outputs": [],
   "source": [
    "poetry_contents = poetry_df['content']"
   ]
  },
  {
   "cell_type": "code",
   "execution_count": 66,
   "metadata": {},
   "outputs": [
    {
     "name": "stdout",
     "output_type": "stream",
     "text": [
      "TOTAL poetry num: 853385\n"
     ]
    }
   ],
   "source": [
    "print(f'TOTAL poetry num: {len(poetry_contents)}')"
   ]
  },
  {
   "cell_type": "code",
   "execution_count": 75,
   "metadata": {},
   "outputs": [
    {
     "data": {
      "text/plain": [
       "'昔年曾见《九华图》，为问江南有也无。今日五溪桥上见，画师犹自欠工夫。'"
      ]
     },
     "execution_count": 75,
     "metadata": {},
     "output_type": "execute_result"
    }
   ],
   "source": [
    "poetry_contents.values[12]"
   ]
  },
  {
   "cell_type": "code",
   "execution_count": 87,
   "metadata": {},
   "outputs": [
    {
     "name": "stdout",
     "output_type": "stream",
     "text": [
      "昔年曾见九华图，为问江南有也无。今日五溪桥上见，画师犹自欠工夫。\n"
     ]
    }
   ],
   "source": [
    "import re\n",
    "\n",
    "# Replace all 《》 in the text of the poetry\n",
    "result = re.sub(r'[《》]', '', poetry_contents.values[12])\n",
    "print(result)"
   ]
  },
  {
   "cell_type": "code",
   "execution_count": 88,
   "metadata": {},
   "outputs": [
    {
     "data": {
      "text/plain": [
       "'昔年曾见九华图，为问江南有也无。\\n今日五溪桥上见，画师犹自欠工夫。\\n\\n'"
      ]
     },
     "execution_count": 88,
     "metadata": {},
     "output_type": "execute_result"
    }
   ],
   "source": [
    "# remove all whitespace and add '\\n' to the end of each \"。\"\n",
    "result.strip().replace(\"。\", \"。\\n\") + '\\n'"
   ]
  },
  {
   "cell_type": "code",
   "execution_count": 89,
   "metadata": {},
   "outputs": [],
   "source": [
    "import csv\n",
    "\n",
    "with open('../data/poetry.txt', \"w\") as f:\n",
    "    for i in range(len(poetry_contents)):\n",
    "        line = re.sub(r'[《》]', '', poetry_contents.values[i])\n",
    "        f.write(line.strip().replace(\"。\", \"。\\n\")+'\\n') "
   ]
  },
  {
   "cell_type": "code",
   "execution_count": null,
   "metadata": {},
   "outputs": [],
   "source": []
  }
 ],
 "metadata": {
  "kernelspec": {
   "display_name": "torch",
   "language": "python",
   "name": "python3"
  },
  "language_info": {
   "codemirror_mode": {
    "name": "ipython",
    "version": 3
   },
   "file_extension": ".py",
   "mimetype": "text/x-python",
   "name": "python",
   "nbconvert_exporter": "python",
   "pygments_lexer": "ipython3",
   "version": "3.10.11"
  },
  "orig_nbformat": 4
 },
 "nbformat": 4,
 "nbformat_minor": 2
}
