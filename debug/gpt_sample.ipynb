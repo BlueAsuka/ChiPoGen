{
 "cells": [
  {
   "cell_type": "code",
   "execution_count": 19,
   "metadata": {},
   "outputs": [],
   "source": [
    "import os\n",
    "import json\n",
    "import pickle\n",
    "from contextlib import nullcontext\n",
    "from easydict import EasyDict\n",
    "\n",
    "import torch\n",
    "import torch.nn.functional as F\n",
    "\n",
    "import sys\n",
    "sys.path.append('../')\n",
    "from model import GPT"
   ]
  },
  {
   "cell_type": "code",
   "execution_count": 20,
   "metadata": {},
   "outputs": [],
   "source": [
    "with open('../config/sample.json', 'r') as f:\n",
    "    sample_config = json.load(f)\n",
    "sample_config = EasyDict(sample_config)\n",
    "\n",
    "with open('../config/model.json', 'r') as f:\n",
    "    model_config = json.load(f)\n",
    "model_config = EasyDict(model_config)"
   ]
  },
  {
   "cell_type": "code",
   "execution_count": 21,
   "metadata": {},
   "outputs": [
    {
     "data": {
      "text/plain": [
       "{'batch_size': 12,\n",
       " 'block_size': 128,\n",
       " 'vocab_size': 12966,\n",
       " 'n_embd': 384,\n",
       " 'n_head': 12,\n",
       " 'n_layer': 12,\n",
       " 'dropout': 0.0}"
      ]
     },
     "execution_count": 21,
     "metadata": {},
     "output_type": "execute_result"
    }
   ],
   "source": [
    "model_config"
   ]
  },
  {
   "cell_type": "code",
   "execution_count": 22,
   "metadata": {},
   "outputs": [
    {
     "data": {
      "text/plain": [
       "{'init_from': 'resume',\n",
       " 'start': '春',\n",
       " 'num_samples': 10,\n",
       " 'max_new_tokens': 500,\n",
       " 'temperature': 0.95,\n",
       " 'top_k': 200,\n",
       " 'seed': 1337}"
      ]
     },
     "execution_count": 22,
     "metadata": {},
     "output_type": "execute_result"
    }
   ],
   "source": [
    "sample_config"
   ]
  },
  {
   "cell_type": "code",
   "execution_count": 23,
   "metadata": {},
   "outputs": [],
   "source": [
    "torch.manual_seed(sample_config.seed)\n",
    "torch.cuda.manual_seed(sample_config.seed)\n",
    "torch.backends.cuda.matmul.allow_tf32 = True # allow tf32 on matmul\n",
    "torch.backends.cudnn.allow_tf32 = True # allow tf32 on cudnn\n",
    "device = 'cuda' if torch.cuda.is_available() else 'cpu'\n",
    "dtype = 'bfloat16' if torch.cuda.is_available() and torch.cuda.is_bf16_supported() else 'float16' # 'float32' or 'bfloat16' or 'float16'\n",
    "device_type = 'cuda' if 'cuda' in device else 'cpu' # for later use in torch.autocast\n",
    "ptdtype = {'float32': torch.float32, 'bfloat16': torch.bfloat16, 'float16': torch.float16}[dtype]\n",
    "ctx = nullcontext() if device_type == 'cpu' else torch.amp.autocast(device_type=device_type, dtype=ptdtype)"
   ]
  },
  {
   "cell_type": "code",
   "execution_count": 24,
   "metadata": {},
   "outputs": [
    {
     "name": "stdout",
     "output_type": "stream",
     "text": [
      "number of parameters: 26.22M\n"
     ]
    },
    {
     "data": {
      "text/plain": [
       "<All keys matched successfully>"
      ]
     },
     "execution_count": 24,
     "metadata": {},
     "output_type": "execute_result"
    }
   ],
   "source": [
    "# if sample_config.init_from == 'resume':\n",
    "checkpoint = torch.load('../params/chipogen_model26.0M.pth', map_location=device)\n",
    "gpt_model = GPT(model_config)\n",
    "state_dict = checkpoint['model']\n",
    "gpt_model.load_state_dict(state_dict)"
   ]
  },
  {
   "cell_type": "code",
   "execution_count": 25,
   "metadata": {},
   "outputs": [
    {
     "data": {
      "text/plain": [
       "GPT(\n",
       "  (transformer): ModuleDict(\n",
       "    (wte): Embedding(12966, 384)\n",
       "    (wpe): Embedding(128, 384)\n",
       "    (drop): Dropout(p=0.0, inplace=False)\n",
       "    (attn): ModuleList(\n",
       "      (0-11): 12 x Block(\n",
       "        (ln_1): LayerNorm()\n",
       "        (attn): SelfAttention(\n",
       "          (c_attn): Linear(in_features=384, out_features=1152, bias=False)\n",
       "          (c_proj): Linear(in_features=384, out_features=384, bias=False)\n",
       "          (attn_dropout): Dropout(p=0.0, inplace=False)\n",
       "          (resid_dropout): Dropout(p=0.0, inplace=False)\n",
       "        )\n",
       "        (ln_2): LayerNorm()\n",
       "        (mlp): MLP(\n",
       "          (c_fc): Linear(in_features=384, out_features=1536, bias=False)\n",
       "          (gelu): GELU(approximate='none')\n",
       "          (c_proj): Linear(in_features=1536, out_features=384, bias=False)\n",
       "          (dropout): Dropout(p=0.0, inplace=False)\n",
       "        )\n",
       "      )\n",
       "    )\n",
       "    (ln_f): LayerNorm()\n",
       "  )\n",
       "  (lm_head): Linear(in_features=384, out_features=12966, bias=False)\n",
       ")"
      ]
     },
     "execution_count": 25,
     "metadata": {},
     "output_type": "execute_result"
    }
   ],
   "source": [
    "gpt_model.to(device)"
   ]
  },
  {
   "cell_type": "code",
   "execution_count": 26,
   "metadata": {},
   "outputs": [],
   "source": [
    "with open('../data/tokens.pkl', 'rb') as f:\n",
    "    tokens = pickle.load(f)\n",
    "\n",
    "stoi = { w:i for i,w in enumerate(tokens)}\n",
    "itos = { i:w for i,w in enumerate(tokens)}\n",
    "\n",
    "encode = lambda s: [stoi[c] for c in s]\n",
    "decode = lambda l: ''.join([itos[i] for i in l])"
   ]
  },
  {
   "cell_type": "code",
   "execution_count": 28,
   "metadata": {},
   "outputs": [
    {
     "data": {
      "text/plain": [
       "tensor([[4899]], device='cuda:0')"
      ]
     },
     "execution_count": 28,
     "metadata": {},
     "output_type": "execute_result"
    }
   ],
   "source": [
    "start_ids = encode(sample_config.start)\n",
    "x = torch.tensor(start_ids, dtype=torch.long, device=device).view(-1, 1)\n",
    "x"
   ]
  },
  {
   "cell_type": "code",
   "execution_count": 29,
   "metadata": {},
   "outputs": [
    {
     "data": {
      "text/plain": [
       "GPT(\n",
       "  (transformer): ModuleDict(\n",
       "    (wte): Embedding(12966, 384)\n",
       "    (wpe): Embedding(128, 384)\n",
       "    (drop): Dropout(p=0.0, inplace=False)\n",
       "    (attn): ModuleList(\n",
       "      (0-11): 12 x Block(\n",
       "        (ln_1): LayerNorm()\n",
       "        (attn): SelfAttention(\n",
       "          (c_attn): Linear(in_features=384, out_features=1152, bias=False)\n",
       "          (c_proj): Linear(in_features=384, out_features=384, bias=False)\n",
       "          (attn_dropout): Dropout(p=0.0, inplace=False)\n",
       "          (resid_dropout): Dropout(p=0.0, inplace=False)\n",
       "        )\n",
       "        (ln_2): LayerNorm()\n",
       "        (mlp): MLP(\n",
       "          (c_fc): Linear(in_features=384, out_features=1536, bias=False)\n",
       "          (gelu): GELU(approximate='none')\n",
       "          (c_proj): Linear(in_features=1536, out_features=384, bias=False)\n",
       "          (dropout): Dropout(p=0.0, inplace=False)\n",
       "        )\n",
       "      )\n",
       "    )\n",
       "    (ln_f): LayerNorm()\n",
       "  )\n",
       "  (lm_head): Linear(in_features=384, out_features=12966, bias=False)\n",
       ")"
      ]
     },
     "execution_count": 29,
     "metadata": {},
     "output_type": "execute_result"
    }
   ],
   "source": [
    "gpt_model.eval()"
   ]
  },
  {
   "cell_type": "code",
   "execution_count": 30,
   "metadata": {},
   "outputs": [],
   "source": [
    "@torch.no_grad()\n",
    "def generate(model, idx, max_new_tokens, temperature, top_k):\n",
    "    \n",
    "    for _ in range(max_new_tokens):\n",
    "        # if the sequence context is growing too long we must crop it at block_size\n",
    "        idx_cond = idx[:, -model_config.block_size:]\n",
    "        # forward the model to get the logits\n",
    "        logits, _ = model(idx_cond)\n",
    "        logits = logits[:, -1, :] / temperature # pluck the logits at the final step and scale by desired temperature\n",
    "        # optionally crop the logits to only the top k options\n",
    "        if top_k is not None:\n",
    "            v, _ = torch.topk(logits, min(top_k, logits.size(-1)))\n",
    "            logits[logits < v[:, [-1]]] = -float('inf')\n",
    "        \n",
    "        probs = F.softmax(logits, dim=-1)\n",
    "        idx_next = torch.multinomial(probs, num_samples=1)\n",
    "        idx = torch.cat((idx, idx_next), dim=1)\n",
    "    \n",
    "    return idx"
   ]
  },
  {
   "cell_type": "code",
   "execution_count": 31,
   "metadata": {},
   "outputs": [],
   "source": [
    "with torch.no_grad():\n",
    "    with ctx:\n",
    "        y = generate(gpt_model, x, \n",
    "                         sample_config.max_new_tokens, \n",
    "                         sample_config.temperature,\n",
    "                         sample_config.top_k)"
   ]
  },
  {
   "cell_type": "code",
   "execution_count": 32,
   "metadata": {},
   "outputs": [],
   "source": [
    "ids = y[0].tolist()"
   ]
  },
  {
   "cell_type": "code",
   "execution_count": 33,
   "metadata": {},
   "outputs": [
    {
     "name": "stdout",
     "output_type": "stream",
     "text": [
      "春又一。\n",
      "欲知花底闲，烟云想葱茜。\n",
      "却恐花外闻，谁复在顷刻。\n",
      "\n",
      "世间无几道，日月等浮烟。\n",
      "此自看游戏，人间路百千。\n",
      "千年吾未晓，一镜我难悬。\n",
      "我是双珠泪，知心直共缘。\n",
      "\n",
      "有所思，在绝代。\n",
      "江山只在眼底。\n",
      "\n",
      "天河独上星斗寒，银盘露湿黄金盘。\n",
      "清光不似银河鹊，一寸琼浆掌上看。\n",
      "\n",
      "晓起西窗冷，云屏一望高。\n",
      "玉函香冷月还在，无柰冷香生碧桃。\n",
      "\n",
      "野田禾果绿纷纷，花坞扶疏竹笕分。\n",
      "野老手中看竹去，小儿蓑笠惯翻文。\n",
      "\n",
      "庭西月地更清凉，谁识仙家种玉堂。\n",
      "莫傍花阴寻伴侣，老仙曾住董仙乡。\n",
      "\n",
      "海风吹作落花香，雪片初飞墨未乾。\n",
      "天上行人新有约，山中明月似无眠。\n",
      "\n",
      "云满空山鹤下蓑，野情未觉客愁多。\n",
      "雪中相对一樽酒，花外高吟两鬓皤。\n",
      "\n",
      "山中来往尽如梦，何处相逢未得归。\n",
      "水似白云横野坐，江如飞雪放春飞。\n",
      "\n",
      "楼阁峰边湖一环，坐来乘醉鬓堪斑。\n",
      "故人携手观天乐，会有神仙在世间。\n",
      "\n",
      "松陵古道秋云昏，几度高秋把菊蹲。\n",
      "风扫云烟閒似我，醉吟泉石冷于门。\n",
      "\n",
      "溪流曲折转萦回，绿树阴阴鸟雀哀。\n",
      "地近欲穷平远地，山横不断旧时台。\n",
      "\n",
      "一溪清浅静无波，水国鱼山共浅莎。\n",
      "不见清歌明月夜，始知秋色近如何。\n",
      "\n",
      "绿树阴阴静乍寒，一轮秋色在栏杆。\n",
      "\n"
     ]
    }
   ],
   "source": [
    "print(decode(ids))"
   ]
  },
  {
   "cell_type": "code",
   "execution_count": null,
   "metadata": {},
   "outputs": [],
   "source": []
  }
 ],
 "metadata": {
  "kernelspec": {
   "display_name": "torch",
   "language": "python",
   "name": "python3"
  },
  "language_info": {
   "codemirror_mode": {
    "name": "ipython",
    "version": 3
   },
   "file_extension": ".py",
   "mimetype": "text/x-python",
   "name": "python",
   "nbconvert_exporter": "python",
   "pygments_lexer": "ipython3",
   "version": "3.10.11"
  },
  "orig_nbformat": 4
 },
 "nbformat": 4,
 "nbformat_minor": 2
}
