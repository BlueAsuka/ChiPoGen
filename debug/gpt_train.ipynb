{
 "cells": [
  {
   "cell_type": "code",
   "execution_count": 24,
   "metadata": {},
   "outputs": [],
   "source": [
    "import sys\n",
    "sys.path.append('../')\n",
    "from model import GPT\n",
    "\n",
    "import os\n",
    "import json\n",
    "import inspect\n",
    "import wandb\n",
    "from contextlib import nullcontext\n",
    "from easydict import EasyDict\n",
    "from colorama import Fore, Style\n",
    "\n",
    "import torch\n",
    "import torch.nn as nn"
   ]
  },
  {
   "cell_type": "code",
   "execution_count": 2,
   "metadata": {},
   "outputs": [
    {
     "name": "stderr",
     "output_type": "stream",
     "text": [
      "Failed to detect the name of this notebook, you can set it manually with the WANDB_NOTEBOOK_NAME environment variable to enable code saving.\n",
      "\u001b[34m\u001b[1mwandb\u001b[0m: Currently logged in as: \u001b[33mhaoxuan_\u001b[0m. Use \u001b[1m`wandb login --relogin`\u001b[0m to force relogin\n"
     ]
    },
    {
     "data": {
      "text/plain": [
       "True"
      ]
     },
     "execution_count": 2,
     "metadata": {},
     "output_type": "execute_result"
    }
   ],
   "source": [
    "wandb.login()"
   ]
  },
  {
   "cell_type": "code",
   "execution_count": 3,
   "metadata": {},
   "outputs": [
    {
     "data": {
      "text/html": [
       "Tracking run with wandb version 0.15.8"
      ],
      "text/plain": [
       "<IPython.core.display.HTML object>"
      ]
     },
     "metadata": {},
     "output_type": "display_data"
    },
    {
     "data": {
      "text/html": [
       "Run data is saved locally in <code>c:\\Users\\HAOXUAN\\Documents\\Code\\Python\\ChiPoGen\\debug\\wandb\\run-20230807_152659-kn7wq8an</code>"
      ],
      "text/plain": [
       "<IPython.core.display.HTML object>"
      ]
     },
     "metadata": {},
     "output_type": "display_data"
    },
    {
     "data": {
      "text/html": [
       "Syncing run <strong><a href='https://wandb.ai/haoxuan_/ChiPoGen/runs/kn7wq8an' target=\"_blank\">distinctive-universe-5</a></strong> to <a href='https://wandb.ai/haoxuan_/ChiPoGen' target=\"_blank\">Weights & Biases</a> (<a href='https://wandb.me/run' target=\"_blank\">docs</a>)<br/>"
      ],
      "text/plain": [
       "<IPython.core.display.HTML object>"
      ]
     },
     "metadata": {},
     "output_type": "display_data"
    },
    {
     "data": {
      "text/html": [
       " View project at <a href='https://wandb.ai/haoxuan_/ChiPoGen' target=\"_blank\">https://wandb.ai/haoxuan_/ChiPoGen</a>"
      ],
      "text/plain": [
       "<IPython.core.display.HTML object>"
      ]
     },
     "metadata": {},
     "output_type": "display_data"
    },
    {
     "data": {
      "text/html": [
       " View run at <a href='https://wandb.ai/haoxuan_/ChiPoGen/runs/kn7wq8an' target=\"_blank\">https://wandb.ai/haoxuan_/ChiPoGen/runs/kn7wq8an</a>"
      ],
      "text/plain": [
       "<IPython.core.display.HTML object>"
      ]
     },
     "metadata": {},
     "output_type": "display_data"
    }
   ],
   "source": [
    "#=====================================================\n",
    "# Read all configurations files\n",
    "with open('../config/model.json') as f:\n",
    "    model_config = json.load(f)\n",
    "model_config = EasyDict(model_config)\n",
    "\n",
    "with open('../config/train.json') as f:\n",
    "    train_config = json.load(f)\n",
    "run = wandb.init(\n",
    "    project='ChiPoGen',\n",
    "    config=train_config\n",
    ")\n",
    "\n",
    "train_config = EasyDict(train_config)"
   ]
  },
  {
   "cell_type": "code",
   "execution_count": 4,
   "metadata": {},
   "outputs": [
    {
     "data": {
      "text/plain": [
       "{'batch_size': 12,\n",
       " 'block_size': 128,\n",
       " 'vocab_size': 12966,\n",
       " 'n_embd': 384,\n",
       " 'n_head': 12,\n",
       " 'n_layer': 12,\n",
       " 'dropout': 0.0}"
      ]
     },
     "execution_count": 4,
     "metadata": {},
     "output_type": "execute_result"
    }
   ],
   "source": [
    "model_config"
   ]
  },
  {
   "cell_type": "code",
   "execution_count": 5,
   "metadata": {},
   "outputs": [
    {
     "data": {
      "text/plain": [
       "{'learning_rate': 0.0006,\n",
       " 'max_iters': 5000,\n",
       " 'lr_decay_iters': 5000,\n",
       " 'min_lr': 6e-05,\n",
       " 'weight_decay': 0.1,\n",
       " 'beta1': 0.9,\n",
       " 'beta2': 0.95,\n",
       " 'warmup_iters': 100,\n",
       " 'gradient_accumulation_steps': 40,\n",
       " 'grad_clip': 1.0,\n",
       " 'eval_iters': 200,\n",
       " 'eval_interval': 1000,\n",
       " 'log_interval': 100}"
      ]
     },
     "execution_count": 5,
     "metadata": {},
     "output_type": "execute_result"
    }
   ],
   "source": [
    "train_config"
   ]
  },
  {
   "cell_type": "code",
   "execution_count": 6,
   "metadata": {},
   "outputs": [],
   "source": [
    "device = 'cuda' if torch.cuda.is_available() else 'cpu'\n",
    "dtype = 'bfloat16' if torch.cuda.is_available() and torch.cuda.is_bf16_supported() else 'float16'"
   ]
  },
  {
   "cell_type": "code",
   "execution_count": 7,
   "metadata": {},
   "outputs": [],
   "source": [
    "# note: float16 data type will automatically use a GradScaler\n",
    "ptdtype = {'float32': torch.float32, 'bfloat16': torch.bfloat16, 'float16': torch.float16}[dtype]\n",
    "ctx = nullcontext() if device == 'cpu' else torch.amp.autocast(device_type=device, dtype=ptdtype)\n",
    "scaler = torch.cuda.amp.GradScaler(enabled=(dtype == 'float16'))"
   ]
  },
  {
   "cell_type": "code",
   "execution_count": 8,
   "metadata": {},
   "outputs": [],
   "source": [
    "torch.manual_seed(1337)\n",
    "torch.backends.cuda.matmul.allow_tf32 = True # allow tf32 on matmul\n",
    "torch.backends.cudnn.allow_tf32 = True # allow tf32 on cudnn"
   ]
  },
  {
   "cell_type": "code",
   "execution_count": 9,
   "metadata": {},
   "outputs": [],
   "source": [
    "import numpy as np\n",
    "\n",
    "train_data = np.memmap('../data/train.bin', dtype=np.uint16, mode='r')\n",
    "val_data = np.memmap('../data/val.bin', dtype=np.uint16, mode='r')\n",
    "\n",
    "def get_batch(split):\n",
    "    data = train_data if split == 'train' else val_data\n",
    "    \n",
    "    # Randomly select chunk of text for training\n",
    "    ix = torch.randint(len(data) - model_config.block_size, (model_config.batch_size,))\n",
    "    x = torch.stack([torch.from_numpy(data[i:i+model_config.block_size].astype(np.int64)) for i in ix])\n",
    "    y = torch.stack([torch.from_numpy(data[i+1:i+1+model_config.block_size].astype(np.int64)) for i in ix])\n",
    "    if device == 'cuda':\n",
    "        x, y = x.pin_memory().to(device, non_blocking=True), y.pin_memory().to(device, non_blocking=True)\n",
    "    else:\n",
    "        x, y = x.to(device), y.to(device)\n",
    "    \n",
    "    return x, y"
   ]
  },
  {
   "cell_type": "code",
   "execution_count": 10,
   "metadata": {},
   "outputs": [
    {
     "name": "stdout",
     "output_type": "stream",
     "text": [
      "number of parameters: 26.22M\n"
     ]
    },
    {
     "data": {
      "text/plain": [
       "GPT(\n",
       "  (transformer): ModuleDict(\n",
       "    (wte): Embedding(12966, 384)\n",
       "    (wpe): Embedding(128, 384)\n",
       "    (drop): Dropout(p=0.0, inplace=False)\n",
       "    (attn): ModuleList(\n",
       "      (0-11): 12 x Block(\n",
       "        (ln_1): LayerNorm()\n",
       "        (attn): SelfAttention(\n",
       "          (c_attn): Linear(in_features=384, out_features=1152, bias=False)\n",
       "          (c_proj): Linear(in_features=384, out_features=384, bias=False)\n",
       "          (attn_dropout): Dropout(p=0.0, inplace=False)\n",
       "          (resid_dropout): Dropout(p=0.0, inplace=False)\n",
       "        )\n",
       "        (ln_2): LayerNorm()\n",
       "        (mlp): MLP(\n",
       "          (c_fc): Linear(in_features=384, out_features=1536, bias=False)\n",
       "          (gelu): GELU(approximate='none')\n",
       "          (c_proj): Linear(in_features=1536, out_features=384, bias=False)\n",
       "          (dropout): Dropout(p=0.0, inplace=False)\n",
       "        )\n",
       "      )\n",
       "    )\n",
       "    (ln_f): LayerNorm()\n",
       "  )\n",
       "  (lm_head): Linear(in_features=384, out_features=12966, bias=False)\n",
       ")"
      ]
     },
     "execution_count": 10,
     "metadata": {},
     "output_type": "execute_result"
    }
   ],
   "source": [
    "gpt_model = GPT(model_config)\n",
    "gpt_model.to(device)"
   ]
  },
  {
   "cell_type": "code",
   "execution_count": 11,
   "metadata": {},
   "outputs": [
    {
     "data": {
      "text/plain": [
       "tensor(9.5240, device='cuda:0', grad_fn=<NllLossBackward0>)"
      ]
     },
     "execution_count": 11,
     "metadata": {},
     "output_type": "execute_result"
    }
   ],
   "source": [
    "# a forward pass\n",
    "x, y = get_batch('train')\n",
    "logits, loss = gpt_model(x, y)\n",
    "loss"
   ]
  },
  {
   "cell_type": "code",
   "execution_count": 12,
   "metadata": {},
   "outputs": [],
   "source": [
    "@torch.no_grad()\n",
    "def estimate_loss():\n",
    "    out = {}\n",
    "    gpt_model.eval() # set the model in evaluation mode\n",
    "    for split in ['train', 'val']:\n",
    "        losses = torch.zeros(train_config.eval_iters)\n",
    "        for k in range(train_config.eval_iters):\n",
    "            X, Y = get_batch(split)\n",
    "            with ctx:\n",
    "                _, loss = gpt_model(X, Y)\n",
    "            losses[k] = loss.item()\n",
    "        out[split] = losses.mean()\n",
    "    gpt_model.train() # set the model in training mode\n",
    "    return out"
   ]
  },
  {
   "cell_type": "code",
   "execution_count": 13,
   "metadata": {},
   "outputs": [],
   "source": [
    "# a loss estimation testing\n",
    "# out = estimate_loss()\n",
    "# out"
   ]
  },
  {
   "cell_type": "code",
   "execution_count": 14,
   "metadata": {},
   "outputs": [],
   "source": [
    "def configure_optimizers(model, weight_decay, learning_rate, betas, device_type):\n",
    "        # start with all of the candidate parameters\n",
    "        param_dict = {pn: p for pn, p in model.named_parameters()}\n",
    "        # filter out those that do not require grad\n",
    "        param_dict = {pn: p for pn, p in param_dict.items() if p.requires_grad}\n",
    "        # create optim groups. Any parameters that is 2D will be weight decayed, otherwise no.\n",
    "        # i.e. all weight tensors in matmuls + embeddings decay, all biases and layernorms don't.\n",
    "        decay_params = [p for n, p in param_dict.items() if p.dim() >= 2]\n",
    "        nodecay_params = [p for n, p in param_dict.items() if p.dim() < 2]\n",
    "        optim_groups = [\n",
    "            {'params': decay_params, 'weight_decay': weight_decay},\n",
    "            {'params': nodecay_params, 'weight_decay': 0.0}\n",
    "        ]\n",
    "        num_decay_params = sum(p.numel() for p in decay_params)\n",
    "        num_nodecay_params = sum(p.numel() for p in nodecay_params)\n",
    "        print(f\"num decayed parameter tensors: {len(decay_params)}, with {num_decay_params:,} parameters\")\n",
    "        print(f\"num non-decayed parameter tensors: {len(nodecay_params)}, with {num_nodecay_params:,} parameters\")\n",
    "        \n",
    "        # create AdamW optimizer and use the fused version if it is available\n",
    "        # the foreach and fused implementations are typically faster than the for-loop, single-tensor implementation\n",
    "        fused_available = 'fused' in inspect.signature(torch.optim.AdamW).parameters\n",
    "        use_fused = fused_available and device_type == 'cuda'\n",
    "        extra_args = dict(fused=True) if use_fused else dict()\n",
    "        optimizer = torch.optim.AdamW(optim_groups, lr=learning_rate, betas=betas, **extra_args)\n",
    "        print(f\"using fused AdamW: {use_fused}\")\n",
    "\n",
    "        return optimizer"
   ]
  },
  {
   "cell_type": "code",
   "execution_count": 15,
   "metadata": {},
   "outputs": [
    {
     "name": "stdout",
     "output_type": "stream",
     "text": [
      "num decayed parameter tensors: 50, with 26,261,760 parameters\n",
      "num non-decayed parameter tensors: 25, with 9,600 parameters\n",
      "using fused AdamW: True\n"
     ]
    }
   ],
   "source": [
    "optimizer = configure_optimizers(gpt_model, train_config.weight_decay, \n",
    "                            train_config.learning_rate, \n",
    "                            (train_config.beta1, train_config.beta2),\n",
    "                            device_type=device)"
   ]
  },
  {
   "cell_type": "code",
   "execution_count": 16,
   "metadata": {},
   "outputs": [
    {
     "data": {
      "text/plain": [
       "AdamW (\n",
       "Parameter Group 0\n",
       "    amsgrad: False\n",
       "    betas: (0.9, 0.95)\n",
       "    capturable: False\n",
       "    differentiable: False\n",
       "    eps: 1e-08\n",
       "    foreach: None\n",
       "    fused: True\n",
       "    lr: 0.0006\n",
       "    maximize: False\n",
       "    weight_decay: 0.1\n",
       "\n",
       "Parameter Group 1\n",
       "    amsgrad: False\n",
       "    betas: (0.9, 0.95)\n",
       "    capturable: False\n",
       "    differentiable: False\n",
       "    eps: 1e-08\n",
       "    foreach: None\n",
       "    fused: True\n",
       "    lr: 0.0006\n",
       "    maximize: False\n",
       "    weight_decay: 0.0\n",
       ")"
      ]
     },
     "execution_count": 16,
     "metadata": {},
     "output_type": "execute_result"
    }
   ],
   "source": [
    "optimizer"
   ]
  },
  {
   "cell_type": "code",
   "execution_count": 17,
   "metadata": {},
   "outputs": [],
   "source": [
    "import math\n",
    "\n",
    "def get_lr(it):\n",
    "    # 1. linear warmup for warmup_iters steps\n",
    "    if it < train_config.warmup_iters:\n",
    "        return train_config.learning_rate * it / train_config.warmup_iters\n",
    "    # 2. if it > lr_decay_iters, return min learning rate\n",
    "    if it > train_config.lr_decay_iters:\n",
    "        return train_config.min_lr\n",
    "    # 3. in between, use cosine decay down to min learning rate\n",
    "    decay_ratio = (it - train_config.warmup_iters) / (train_config.lr_decay_iters - train_config.warmup_iters)\n",
    "    assert 0 <= decay_ratio <= 1\n",
    "    coeff = 0.5 * (1.0 + math.cos(math.pi * decay_ratio))\n",
    "    return train_config.min_lr + coeff * (train_config.learning_rate - train_config.min_lr)"
   ]
  },
  {
   "cell_type": "code",
   "execution_count": 18,
   "metadata": {},
   "outputs": [
    {
     "data": {
      "image/png": "[encoded data removed]",
      "text/plain": [
       "<Figure size 640x480 with 1 Axes>"
      ]
     },
     "metadata": {},
     "output_type": "display_data"
    }
   ],
   "source": [
    "import matplotlib.pyplot as plt\n",
    "\n",
    "its = [i for i in range(train_config.max_iters)]\n",
    "lrs = [get_lr(i) for i in its]\n",
    "plt.xlabel('iters')\n",
    "plt.ylabel('epoch_lr')\n",
    "plt.plot(its, lrs)\n",
    "plt.show()"
   ]
  },
  {
   "cell_type": "code",
   "execution_count": 19,
   "metadata": {},
   "outputs": [],
   "source": [
    "def estimate_mfu(model, fwdbwd_per_iter, dt):   \n",
    "    N = model.get_num_params()\n",
    "    cfg = model.config\n",
    "    L, H, Q, T = cfg.n_layer, cfg.n_head, cfg.n_embd//cfg.n_head, cfg.block_size\n",
    "    \n",
    "    flops_per_token = 6 * N + 12 * L * H * Q * T\n",
    "    flops_per_fwdbwd = flops_per_token * T\n",
    "    flops_per_iter = flops_per_fwdbwd * fwdbwd_per_iter\n",
    "    \n",
    "    flops_achieved = flops_per_iter * (1.0/dt)\n",
    "    flops_promised = 29.15e12 # On RTX 4070 half peak flops is 29.15 TFLOPS\n",
    "    mfu = flops_achieved / flops_promised\n",
    "    \n",
    "    return mfu"
   ]
  },
  {
   "cell_type": "code",
   "execution_count": 20,
   "metadata": {},
   "outputs": [],
   "source": [
    "import time"
   ]
  },
  {
   "cell_type": "code",
   "execution_count": 21,
   "metadata": {},
   "outputs": [],
   "source": [
    "X, Y = get_batch('train')\n",
    "t0 = time.time()\n",
    "iter_num = 0\n",
    "# local_iter_num = 0\n",
    "# running_mfu = -1.0"
   ]
  },
  {
   "cell_type": "code",
   "execution_count": 22,
   "metadata": {},
   "outputs": [
    {
     "name": "stdout",
     "output_type": "stream",
     "text": [
      "step 0: train loss 9.5359, val loss 9.5417\n",
      "iter 0: loss 9.5423, time 4569.28ms\n",
      "iter 100: loss 6.0004, time 75343.91ms\n",
      "iter 200: loss 5.3268, time 144082.02ms\n",
      "iter 300: loss 4.8931, time 211873.01ms\n",
      "iter 400: loss 4.4415, time 279703.82ms\n",
      "iter 500: loss 4.3620, time 349435.08ms\n",
      "iter 600: loss 4.1448, time 419589.60ms\n",
      "iter 700: loss 4.1996, time 489594.57ms\n",
      "iter 800: loss 4.1999, time 560152.23ms\n",
      "iter 900: loss 4.3134, time 630509.46ms\n",
      "step 1000: train loss 4.0448, val loss 4.2671\n",
      "iter 1000: loss 4.0031, time 704347.21ms\n",
      "iter 1100: loss 3.9903, time 773497.06ms\n",
      "iter 1200: loss 3.7994, time 844033.82ms\n",
      "iter 1300: loss 3.8288, time 914378.02ms\n",
      "iter 1400: loss 3.7620, time 984703.51ms\n",
      "iter 1500: loss 3.9858, time 1054816.05ms\n",
      "iter 1600: loss 3.9097, time 1124141.13ms\n",
      "iter 1700: loss 3.6323, time 1194329.61ms\n",
      "iter 1800: loss 3.6225, time 1263225.35ms\n",
      "iter 1900: loss 3.8354, time 1331488.28ms\n",
      "step 2000: train loss 3.7514, val loss 4.0067\n",
      "iter 2000: loss 3.4924, time 1405089.35ms\n",
      "iter 2100: loss 3.8966, time 1474408.75ms\n",
      "iter 2200: loss 3.8080, time 1544675.05ms\n",
      "iter 2300: loss 3.7619, time 1615313.51ms\n",
      "iter 2400: loss 3.7081, time 1686007.64ms\n",
      "iter 2500: loss 3.6749, time 1756708.61ms\n",
      "iter 2600: loss 3.6981, time 1827698.40ms\n",
      "iter 2700: loss 3.6750, time 1898292.15ms\n",
      "iter 2800: loss 3.5371, time 1969482.14ms\n",
      "iter 2900: loss 3.7340, time 2040469.75ms\n",
      "step 3000: train loss 3.6096, val loss 3.8932\n",
      "iter 3000: loss 3.8053, time 2114217.70ms\n",
      "iter 3100: loss 3.4655, time 2185304.13ms\n",
      "iter 3200: loss 3.5044, time 2256010.85ms\n",
      "iter 3300: loss 3.6366, time 2326515.91ms\n",
      "iter 3400: loss 3.6847, time 2397217.47ms\n",
      "iter 3500: loss 3.7269, time 2467719.49ms\n",
      "iter 3600: loss 3.7095, time 2539330.90ms\n",
      "iter 3700: loss 3.6893, time 2611155.38ms\n",
      "iter 3800: loss 3.4627, time 2682440.47ms\n",
      "iter 3900: loss 3.7375, time 2753016.60ms\n",
      "step 4000: train loss 3.5359, val loss 3.8364\n",
      "iter 4000: loss 3.6168, time 2827244.20ms\n",
      "iter 4100: loss 3.3951, time 2897726.69ms\n",
      "iter 4200: loss 3.3641, time 2968332.93ms\n",
      "iter 4300: loss 3.3837, time 3038785.58ms\n",
      "iter 4400: loss 3.4904, time 3110322.30ms\n",
      "iter 4500: loss 3.3373, time 3181644.99ms\n",
      "iter 4600: loss 3.3472, time 3252950.56ms\n",
      "iter 4700: loss 3.3481, time 3323848.16ms\n",
      "iter 4800: loss 3.7482, time 3394435.74ms\n",
      "iter 4900: loss 3.5221, time 3465584.28ms\n",
      "step 5000: train loss 3.5030, val loss 3.8169\n",
      "iter 5000: loss 3.3433, time 3539830.96ms\n"
     ]
    }
   ],
   "source": [
    "while True:\n",
    "    \n",
    "    # determine and set the learning rate for this iteration\n",
    "    lr = get_lr(iter_num)\n",
    "    for param_group in optimizer.param_groups:\n",
    "        param_group['lr'] = lr\n",
    "    \n",
    "    # evaluate the loss on train/val sets and write checkpoints\n",
    "    if iter_num % train_config.eval_interval == 0:\n",
    "        losses = estimate_loss()\n",
    "        print('==================================')\n",
    "        print(Fore.GREEN + f\"step {iter_num}: train loss {losses['train']:.4f}, val loss {losses['val']:.4f}\")\n",
    "        print(Style.RESET_ALL)\n",
    "        \n",
    "        # Use wandb to log the process\n",
    "        wandb.log({\n",
    "            \"val/loss\": losses['val'],\n",
    "        })        \n",
    "        \n",
    "    for micro_step in range(train_config.gradient_accumulation_steps):\n",
    "        with ctx:\n",
    "            logits, loss = gpt_model(X, Y)\n",
    "            # scale the loss to account for gradient accumulation\n",
    "            loss = loss / train_config.gradient_accumulation_steps\n",
    "            \n",
    "        # immediately async prefetch next batch while model is doing the forward pass on the GPU\n",
    "        X, Y = get_batch('train')\n",
    "        \n",
    "        # backward pass, with gradient scaling if training in fp16\n",
    "        scaler.scale(loss).backward()\n",
    "    \n",
    "    # clip the gradient\n",
    "    if train_config.grad_clip != 0:\n",
    "        scaler.unscale_(optimizer)\n",
    "        nn.utils.clip_grad_norm_(gpt_model.parameters(), train_config.grad_clip)\n",
    "        \n",
    "    # step the optimizer and scaler if training in fp16\n",
    "    scaler.step(optimizer)\n",
    "    scaler.update()\n",
    "    optimizer.zero_grad(set_to_none=True) # release the gradients \n",
    "    \n",
    "    # timing and logging\n",
    "    t1 = time.time()\n",
    "    dt = t1 - t0\n",
    "    t0 = t1\n",
    "    if iter_num % train_config.log_interval == 0:\n",
    "        lossf = loss.item() * train_config.gradient_accumulation_steps\n",
    "        # if local_iter_num >= 5:\n",
    "            # mfu = estimate_mfu(gpt_model, model_config.batch_size * train_config.gradient_accumulation_steps, dt)\n",
    "            # running_mfu = mfu if running_mfu == -1.0 else 0.9 * running_mfu + 0.1 * mfu\n",
    "        # print(f\"iter {iter_num}: loss {lossf:.4f}, time {dt*1000:.2f}ms, mfu {running_mfu*100:.2f}%\")\n",
    "        print(f\"iter {iter_num}: loss {lossf:.4f}, time {dt*1e6:.2f}s\")\n",
    "        wandb.log({\n",
    "            \"train/loss\": lossf,\n",
    "        })    \n",
    "        \n",
    "    # update iters num\n",
    "    iter_num += 1\n",
    "    # local_iter_num += 1\n",
    "    \n",
    "    # terminate conditions\n",
    "    if iter_num > train_config.max_iters:\n",
    "        break"
   ]
  },
  {
   "cell_type": "code",
   "execution_count": 25,
   "metadata": {},
   "outputs": [
    {
     "name": "stdout",
     "output_type": "stream",
     "text": [
      "saving model\n",
      "save model successfully\n"
     ]
    }
   ],
   "source": [
    "checkpoint = {\n",
    "                'model': gpt_model.state_dict(),\n",
    "                'optimizer': optimizer.state_dict(),\n",
    "            }\n",
    "\n",
    "model_params_dir = 'params'\n",
    "model_params_name = 'chipogen_model.pth'\n",
    "print(f\"saving model\")\n",
    "torch.save(checkpoint, os.path.join(model_params_dir, model_params_name))\n",
    "print('save model successfully')"
   ]
  },
  {
   "cell_type": "code",
   "execution_count": 14,
   "metadata": {},
   "outputs": [
    {
     "data": {
      "text/plain": [
       "'4716'"
      ]
     },
     "execution_count": 14,
     "metadata": {},
     "output_type": "execute_result"
    }
   ],
   "source": [
    "import numpy as np\n",
    "\n",
    "str(np.random.randint(0, 65536))"
   ]
  },
  {
   "cell_type": "code",
   "execution_count": null,
   "metadata": {},
   "outputs": [],
   "source": []
  }
 ],
 "metadata": {
  "kernelspec": {
   "display_name": "torch",
   "language": "python",
   "name": "python3"
  },
  "language_info": {
   "codemirror_mode": {
    "name": "ipython",
    "version": 3
   },
   "file_extension": ".py",
   "mimetype": "text/x-python",
   "name": "python",
   "nbconvert_exporter": "python",
   "pygments_lexer": "ipython3",
   "version": "3.10.11"
  },
  "orig_nbformat": 4
 },
 "nbformat": 4,
 "nbformat_minor": 2
}
