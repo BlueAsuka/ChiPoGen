{
 "cells": [
  {
   "cell_type": "code",
   "execution_count": 44,
   "metadata": {},
   "outputs": [],
   "source": [
    "import os\n",
    "import json\n",
    "import pickle\n",
    "from contextlib import nullcontext\n",
    "from easydict import EasyDict\n",
    "\n",
    "import torch\n",
    "import torch.nn.functional as F\n",
    "\n",
    "import sys\n",
    "sys.path.append('../')\n",
    "from model import GPT"
   ]
  },
  {
   "cell_type": "code",
   "execution_count": 45,
   "metadata": {},
   "outputs": [],
   "source": [
    "with open('../config/sample.json', 'r') as f:\n",
    "    sample_config = json.load(f)\n",
    "sample_config = EasyDict(sample_config)\n",
    "\n",
    "with open('../config/model.json', 'r') as f:\n",
    "    model_config = json.load(f)\n",
    "model_config = EasyDict(model_config)"
   ]
  },
  {
   "cell_type": "code",
   "execution_count": 46,
   "metadata": {},
   "outputs": [
    {
     "data": {
      "text/plain": [
       "{'batch_size': 12,\n",
       " 'block_size': 128,\n",
       " 'vocab_size': 12966,\n",
       " 'n_embd': 384,\n",
       " 'n_head': 12,\n",
       " 'n_layer': 12,\n",
       " 'dropout': 0.0}"
      ]
     },
     "execution_count": 46,
     "metadata": {},
     "output_type": "execute_result"
    }
   ],
   "source": [
    "model_config"
   ]
  },
  {
   "cell_type": "code",
   "execution_count": 47,
   "metadata": {},
   "outputs": [
    {
     "data": {
      "text/plain": [
       "{'init_from': 'resume',\n",
       " 'start': '\\n',\n",
       " 'num_samples': 10,\n",
       " 'max_new_tokens': 500,\n",
       " 'temperature': 0.95,\n",
       " 'top_k': 200,\n",
       " 'seed': 1337}"
      ]
     },
     "execution_count": 47,
     "metadata": {},
     "output_type": "execute_result"
    }
   ],
   "source": [
    "sample_config"
   ]
  },
  {
   "cell_type": "code",
   "execution_count": 48,
   "metadata": {},
   "outputs": [],
   "source": [
    "torch.manual_seed(sample_config.seed)\n",
    "torch.cuda.manual_seed(sample_config.seed)\n",
    "torch.backends.cuda.matmul.allow_tf32 = True # allow tf32 on matmul\n",
    "torch.backends.cudnn.allow_tf32 = True # allow tf32 on cudnn\n",
    "device = 'cuda' if torch.cuda.is_available() else 'cpu'\n",
    "dtype = 'bfloat16' if torch.cuda.is_available() and torch.cuda.is_bf16_supported() else 'float16' # 'float32' or 'bfloat16' or 'float16'\n",
    "device_type = 'cuda' if 'cuda' in device else 'cpu' # for later use in torch.autocast\n",
    "ptdtype = {'float32': torch.float32, 'bfloat16': torch.bfloat16, 'float16': torch.float16}[dtype]\n",
    "ctx = nullcontext() if device_type == 'cpu' else torch.amp.autocast(device_type=device_type, dtype=ptdtype)"
   ]
  },
  {
   "cell_type": "code",
   "execution_count": 49,
   "metadata": {},
   "outputs": [
    {
     "name": "stdout",
     "output_type": "stream",
     "text": [
      "number of parameters: 26.22M\n"
     ]
    },
    {
     "data": {
      "text/plain": [
       "<All keys matched successfully>"
      ]
     },
     "execution_count": 49,
     "metadata": {},
     "output_type": "execute_result"
    }
   ],
   "source": [
    "# if sample_config.init_from == 'resume':\n",
    "checkpoint = torch.load('../params/chipogen_model26.0M.pth', map_location=device)\n",
    "gpt_model = GPT(model_config)\n",
    "state_dict = checkpoint['model']\n",
    "gpt_model.load_state_dict(state_dict)"
   ]
  },
  {
   "cell_type": "code",
   "execution_count": 50,
   "metadata": {},
   "outputs": [
    {
     "data": {
      "text/plain": [
       "GPT(\n",
       "  (transformer): ModuleDict(\n",
       "    (wte): Embedding(12966, 384)\n",
       "    (wpe): Embedding(128, 384)\n",
       "    (drop): Dropout(p=0.0, inplace=False)\n",
       "    (attn): ModuleList(\n",
       "      (0-11): 12 x Block(\n",
       "        (ln_1): LayerNorm()\n",
       "        (attn): SelfAttention(\n",
       "          (c_attn): Linear(in_features=384, out_features=1152, bias=False)\n",
       "          (c_proj): Linear(in_features=384, out_features=384, bias=False)\n",
       "          (attn_dropout): Dropout(p=0.0, inplace=False)\n",
       "          (resid_dropout): Dropout(p=0.0, inplace=False)\n",
       "        )\n",
       "        (ln_2): LayerNorm()\n",
       "        (mlp): MLP(\n",
       "          (c_fc): Linear(in_features=384, out_features=1536, bias=False)\n",
       "          (gelu): GELU(approximate='none')\n",
       "          (c_proj): Linear(in_features=1536, out_features=384, bias=False)\n",
       "          (dropout): Dropout(p=0.0, inplace=False)\n",
       "        )\n",
       "      )\n",
       "    )\n",
       "    (ln_f): LayerNorm()\n",
       "  )\n",
       "  (lm_head): Linear(in_features=384, out_features=12966, bias=False)\n",
       ")"
      ]
     },
     "execution_count": 50,
     "metadata": {},
     "output_type": "execute_result"
    }
   ],
   "source": [
    "gpt_model.to(device)"
   ]
  },
  {
   "cell_type": "code",
   "execution_count": 51,
   "metadata": {},
   "outputs": [],
   "source": [
    "with open('../data/tokens.pkl', 'rb') as f:\n",
    "    tokens = pickle.load(f)\n",
    "\n",
    "stoi = { w:i for i,w in enumerate(tokens)}\n",
    "itos = { i:w for i,w in enumerate(tokens)}\n",
    "\n",
    "encode = lambda s: [stoi[c] for c in s]\n",
    "decode = lambda l: ''.join([itos[i] for i in l])"
   ]
  },
  {
   "cell_type": "code",
   "execution_count": 52,
   "metadata": {},
   "outputs": [
    {
     "data": {
      "text/plain": [
       "tensor([[0]], device='cuda:0')"
      ]
     },
     "execution_count": 52,
     "metadata": {},
     "output_type": "execute_result"
    }
   ],
   "source": [
    "start_ids = encode(sample_config.start)\n",
    "x = torch.tensor(start_ids, dtype=torch.long, device=device).view(-1, 1)\n",
    "x"
   ]
  },
  {
   "cell_type": "code",
   "execution_count": 53,
   "metadata": {},
   "outputs": [
    {
     "data": {
      "text/plain": [
       "GPT(\n",
       "  (transformer): ModuleDict(\n",
       "    (wte): Embedding(12966, 384)\n",
       "    (wpe): Embedding(128, 384)\n",
       "    (drop): Dropout(p=0.0, inplace=False)\n",
       "    (attn): ModuleList(\n",
       "      (0-11): 12 x Block(\n",
       "        (ln_1): LayerNorm()\n",
       "        (attn): SelfAttention(\n",
       "          (c_attn): Linear(in_features=384, out_features=1152, bias=False)\n",
       "          (c_proj): Linear(in_features=384, out_features=384, bias=False)\n",
       "          (attn_dropout): Dropout(p=0.0, inplace=False)\n",
       "          (resid_dropout): Dropout(p=0.0, inplace=False)\n",
       "        )\n",
       "        (ln_2): LayerNorm()\n",
       "        (mlp): MLP(\n",
       "          (c_fc): Linear(in_features=384, out_features=1536, bias=False)\n",
       "          (gelu): GELU(approximate='none')\n",
       "          (c_proj): Linear(in_features=1536, out_features=384, bias=False)\n",
       "          (dropout): Dropout(p=0.0, inplace=False)\n",
       "        )\n",
       "      )\n",
       "    )\n",
       "    (ln_f): LayerNorm()\n",
       "  )\n",
       "  (lm_head): Linear(in_features=384, out_features=12966, bias=False)\n",
       ")"
      ]
     },
     "execution_count": 53,
     "metadata": {},
     "output_type": "execute_result"
    }
   ],
   "source": [
    "gpt_model.eval()"
   ]
  },
  {
   "cell_type": "code",
   "execution_count": 54,
   "metadata": {},
   "outputs": [],
   "source": [
    "@torch.no_grad()\n",
    "def generate(model, idx, max_new_tokens, temperature, top_k):\n",
    "    \n",
    "    for _ in range(max_new_tokens):\n",
    "        # if the sequence context is growing too long we must crop it at block_size\n",
    "        idx_cond = idx[:, -model_config.block_size:]\n",
    "        # forward the model to get the logits\n",
    "        logits, _ = model(idx_cond)\n",
    "        logits = logits[:, -1, :] / temperature # pluck the logits at the final step and scale by desired temperature\n",
    "        # optionally crop the logits to only the top k options\n",
    "        if top_k is not None:\n",
    "            v, _ = torch.topk(logits, min(top_k, logits.size(-1)))\n",
    "            logits[logits < v[:, [-1]]] = -float('inf')\n",
    "        \n",
    "        probs = F.softmax(logits, dim=-1)\n",
    "        idx_next = torch.multinomial(probs, num_samples=1)\n",
    "        idx = torch.cat((idx, idx_next), dim=1)\n",
    "    \n",
    "    return idx"
   ]
  },
  {
   "cell_type": "code",
   "execution_count": 55,
   "metadata": {},
   "outputs": [],
   "source": [
    "with torch.no_grad():\n",
    "    with ctx:\n",
    "        y = generate(gpt_model, x, \n",
    "                         sample_config.max_new_tokens, \n",
    "                         sample_config.temperature,\n",
    "                         sample_config.top_k)"
   ]
  },
  {
   "cell_type": "code",
   "execution_count": 56,
   "metadata": {},
   "outputs": [],
   "source": [
    "ids = y[0].tolist()"
   ]
  },
  {
   "cell_type": "code",
   "execution_count": 57,
   "metadata": {},
   "outputs": [
    {
     "name": "stdout",
     "output_type": "stream",
     "text": [
      "\n",
      "\n",
      "爱此岩霏雪，深惭吏隐诗。\n",
      "相逢非论地，一别近谁期。\n",
      "月朗江村暮，风清道路迟。\n",
      "明朝问流水，回棹可来兹。\n",
      "\n",
      "朝退时应到，吟窗独对僧。\n",
      "客愁真滚滚，世事莫懵腾。\n",
      "过眼朝朝急，论心事事增。\n",
      "浮山只如此，何处不堪乘。\n",
      "\n",
      "久废风流兴，虚斋复宴无。\n",
      "幽人诗句好，小室酒垆孤。\n",
      "书帙三杯湿，香瓶两柄枯。\n",
      "此时神胜在，不必问还无。\n",
      "\n",
      "南来忽作数峰云，更问清泉与浅濆。\n",
      "白月长松多在下，青山浊酒不嫌醺。\n",
      "楼头晓市人烟散，竹里西峰曙色分。\n",
      "何处玉泉堪借问，几回斜日忆劳君。\n",
      "\n",
      "仙人住在海云乡，药石风流一钓航。\n",
      "太古易传天上箓，清秋同过石头庄。\n",
      "山中猿鹤频来往，江上烟霞独渺茫。\n",
      "知有山川称逸士，应题题字寄柴桑。\n",
      "\n",
      "十年高卧斗牛宫，相对山川兴趣同。\n",
      "欲返风尘成未得，相期水月是成功。\n",
      "中流极目知多少，曲径通村有几重。\n",
      "自笑老来乘醉去，肯令尘世混游龙。\n",
      "\n",
      "使君频下使关中，宣武归来语便雄。\n",
      "花外几多高士宅，尘中一舸太湖风。\n",
      "青山已许凭栏绿，绿树应愁夹洞红。\n",
      "我有清琴和不断，愿将明月破西东。\n",
      "\n",
      "野叟家风不可寻，故应丘壑尚知音。\n",
      "年来未尽黄金价，老去何由赤帜心。\n",
      "时向此中思得句，客逢明月作知音。\n",
      "道人坐对山风起，更把离觞更\n"
     ]
    }
   ],
   "source": [
    "print(decode(ids))"
   ]
  },
  {
   "cell_type": "code",
   "execution_count": null,
   "metadata": {},
   "outputs": [],
   "source": []
  }
 ],
 "metadata": {
  "kernelspec": {
   "display_name": "torch",
   "language": "python",
   "name": "python3"
  },
  "language_info": {
   "codemirror_mode": {
    "name": "ipython",
    "version": 3
   },
   "file_extension": ".py",
   "mimetype": "text/x-python",
   "name": "python",
   "nbconvert_exporter": "python",
   "pygments_lexer": "ipython3",
   "version": "3.10.11"
  },
  "orig_nbformat": 4
 },
 "nbformat": 4,
 "nbformat_minor": 2
}
